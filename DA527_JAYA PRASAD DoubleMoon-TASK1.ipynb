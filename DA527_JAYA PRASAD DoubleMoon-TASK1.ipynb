{
 "cells": [
  {
   "cell_type": "markdown",
   "metadata": {},
   "source": [
    "# DA527 - JAYA PRASAD TATINENI, PROJECT#1 - TASK1"
   ]
  },
  {
   "cell_type": "markdown",
   "metadata": {},
   "source": [
    "# Generated two moons with Radius = 10 points, width = 6 points and distance # =-1"
   ]
  },
  {
   "cell_type": "code",
   "execution_count": 9,
   "metadata": {},
   "outputs": [
    {
     "data": {
      "image/png": "[encoded data removed]",
      "text/plain": [
       "<Figure size 432x288 with 1 Axes>"
      ]
     },
     "metadata": {
      "needs_background": "light"
     },
     "output_type": "display_data"
    }
   ],
   "source": [
    "#CSC/ECE/DA 427/527\n",
    "#Fall 2020\n",
    "\n",
    "from random import random\n",
    "import matplotlib.pyplot as plt\n",
    "import math\n",
    "import numpy as np\n",
    "\n",
    "def moon(num_points,distance,radius,width):\n",
    "\n",
    " points = num_points\n",
    "\n",
    " x1 = [0 for _ in range(points)]\n",
    " y1 = [0 for _ in range(points)]\n",
    " x2 = [0 for _ in range(points)]\n",
    " y2 = [0 for _ in range(points)]\n",
    "\n",
    " for i in range(points):\n",
    "    d = distance\n",
    "    r = radius\n",
    "    w = width\n",
    "    a = random()*math.pi\n",
    "    x1[i] = math.sqrt(random()) * math.cos(a)*(w/2) + ((-(r+w/2) if(random() < 0.5) else (r+w/2)) * math.cos(a))\n",
    "    y1[i] = math.sqrt(random()) * math.sin(a)*(w) + (r * math.sin(a)) - d\n",
    "  \n",
    "    a = random()*math.pi + math.pi\n",
    "    x2[i] = (r+w/2) + math.sqrt(random()) * math.cos(a)*(w/2) + ((-(r+w/2)) if(random() < 0.5) else (r+w/2)) * math.cos(a)\n",
    "    y2[i] = -(math.sqrt(random()) * math.sin(a)*(-w) + (-r * math.sin(a))) + d\n",
    " return ([x1,x2,y1,y2])\n",
    "    \n",
    "x1,x2,y1,y2 = moon(1000,-1,10,6)\n",
    "\n",
    "plt.plot(x1 ,y1)\n",
    "plt.plot(x2,y2)\n",
    "plt.axhline(y=0, color='r', linestyle='-')\n",
    "plt.show()"
   ]
  },
  {
   "cell_type": "code",
   "execution_count": 10,
   "metadata": {},
   "outputs": [],
   "source": [
    "# x_train - is the training data set - Combination of (x1,y1) and (x2,y2)\n",
    "# y_train has Desired output = +1 or -1 depending on the data point.\n",
    "# y_train holds the target values +1 or -1 depending on the following.\n",
    "# If x1 > 0 and y1 > 0 then the desired output = 1\n",
    "# If x1 < 0 and y1 > 0 then the desired output = 1\n",
    "# If x1 < 0 and y1 < 0 then the desired output = -1\n",
    "# If x1 > 0 and y1 < 0 then the desired output = -1\n",
    "\n",
    "#x_train is used for training the data set.\n",
    "\n",
    "x_train = []\n",
    "a_list = []\n",
    "b_list = []\n",
    "y_train = []\n",
    "for i in range(0,1000):\n",
    "    a_list = []\n",
    "    a_list.append(1)\n",
    "    a_list.append(int(x1[i]))\n",
    "    a_list.append(int(y1[i]))\n",
    "    x_train.append(list(a_list))\n",
    "    if x1[i] > 0 and y1[i] >0:\n",
    "        y_train.append(1)\n",
    "    elif x1[i] < 0 and y1[i] > 0:\n",
    "        y_train.append(1)\n",
    "    elif x1[i] < 0 and y1[i] < 0:\n",
    "        y_train.append(-1)\n",
    "    elif x1[i] > 0 and y1[i] < 0:\n",
    "        y_train.append(-1)  \n",
    "\n",
    "        \n",
    "for j in range(0,1000):\n",
    "    b_list = []\n",
    "    b_list.append(1)\n",
    "    b_list.append(int(x2[j]))\n",
    "    b_list.append(int(y2[j]))\n",
    "    x_train.append(list(b_list))\n",
    "\n",
    "    if x2[j] > 0 and y2[j] > 0:\n",
    "        y_train.append(1)\n",
    "    elif x2[j] < 0 and y2[j] > 0:\n",
    "        y_train.append(1)\n",
    "    elif x2[j] < 0 and y2[j] < 0:\n",
    "        y_train.append(-1)\n",
    "    elif x2[j] > 0 and y2[j] < 0:\n",
    "        y_train.append(-1)    "
   ]
  },
  {
   "cell_type": "code",
   "execution_count": 11,
   "metadata": {},
   "outputs": [
    {
     "name": "stdout",
     "output_type": "stream",
     "text": [
      "\n",
      "epoch-:  1\n",
      "New weights: [-1.1 -1.1  2.3]\n",
      "\n",
      "epoch-:  2\n",
      "New weights: [-0.8 -0.1  2.9]\n",
      "\n",
      "epoch-:  3\n",
      "New weights: [-0.8 -0.1  2.9]\n",
      "\n",
      "epoch-:  4\n",
      "New weights: [-0.8 -0.1  2.9]\n",
      "\n",
      "epoch-:  5\n",
      "New weights: [-0.8 -0.1  2.9]\n",
      "\n",
      "epoch-:  6\n",
      "New weights: [-0.8 -0.1  2.9]\n",
      "\n",
      "epoch-:  7\n",
      "New weights: [-0.8 -0.1  2.9]\n",
      "\n",
      "epoch-:  8\n",
      "New weights: [-0.8 -0.1  2.9]\n",
      "\n",
      "epoch-:  9\n",
      "New weights: [-0.8 -0.1  2.9]\n"
     ]
    }
   ],
   "source": [
    "# This procedure is used to calculate the new weights\n",
    "# Accepts each combination of data point in X array - (x1,y1)\n",
    "# y - Desired output\n",
    "# eta - Learning rate\n",
    "\n",
    "def calculatenewweights(xnew,wnew,y,index,eta):\n",
    "    dotprodnew= 0\n",
    "    bias = 1   #Bias = 1\n",
    "    biasaddedsum = 0\n",
    "    for k in range(len(xnew)):\n",
    "        dotprodnew = np.dot(xnew, wnew)\n",
    "    biasaddedsum = dotprodnew +bias #Adding Bias to the dot product\n",
    "    if biasaddedsum >= 0:           #Checking for the Sgn Value\n",
    "        yhat = 1\n",
    "    elif biasaddedsum < 0:\n",
    "        yhat = -1\n",
    "    error = y - yhat\n",
    "    for l in range(len(wnew)):\n",
    "        wnew[l] = wnew[l]+(eta*error*xnew[l])\n",
    "    return wnew,yhat,error\n",
    "\n",
    "# Perceptron function\n",
    "# X = Input Vector\n",
    "# y - Desired output vector\n",
    "\n",
    "def perceptron(x,y,t,lr):\n",
    "    n = 1   # Initialize n\n",
    "    error_array = np.ones(len(x)) # Error array\n",
    "    predicted = np.ones(len(x))   # Predicted Array\n",
    "    w = []  # Initialize weights\n",
    "    w = np.zeros(len(x[0])) #Populate zeros for initial weights\n",
    "    test_index_start = int(len(x)/2)\n",
    "    test_index_end = int(len(x)/1.4)\n",
    "    errorcount = 0\n",
    "    while n < t: \n",
    "        print()\n",
    "        print(\"epoch-: \",n)\n",
    "        for i in range(0,2000):  #Used a portion of X for testing\n",
    "            w,prediction,errornew=calculatenewweights(x[i],w,y[i],i,lr) \n",
    "            error_array[i] = errornew\n",
    "            predicted[i] = prediction\n",
    "        print(\"New weights:\",w)\n",
    "        n += 1\n",
    "\n",
    "# Main Program begin here.\n",
    "# Total Iterations = 15\n",
    "# Learning Rate = 0.01\n",
    "# y - Desired value vector\n",
    "t = 10\n",
    "lr = 0.05\n",
    "perceptron(x_train,y_train,t,lr)\n"
   ]
  },
  {
   "cell_type": "code",
   "execution_count": null,
   "metadata": {},
   "outputs": [],
   "source": []
  }
 ],
 "metadata": {
  "kernelspec": {
   "display_name": "Python 3",
   "language": "python",
   "name": "python3"
  },
  "language_info": {
   "codemirror_mode": {
    "name": "ipython",
    "version": 3
   },
   "file_extension": ".py",
   "mimetype": "text/x-python",
   "name": "python",
   "nbconvert_exporter": "python",
   "pygments_lexer": "ipython3",
   "version": "3.8.3"
  }
 },
 "nbformat": 4,
 "nbformat_minor": 4
}
